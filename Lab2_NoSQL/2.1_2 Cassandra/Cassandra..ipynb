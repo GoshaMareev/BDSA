﻿{
  "metadata": {
    "name": "Cassandra",
    "kernelspec": {
      "language": "scala",
      "name": "spark2-scala"
    },
    "language_info": {
      "codemirror_mode": "text/x-scala",
      "file_extension": ".scala",
      "mimetype": "text/x-scala",
      "name": "scala",
      "pygments_lexer": "scala"
    }
  },
  "nbformat": 4,
  "nbformat_minor": 2,
  "cells": [
    {
      "cell_type": "code",
      "execution_count": 0,
      "metadata": {
        "autoscroll": "auto"
      },
      "outputs": [],
      "source": "SELECT * FROM system_schema.keyspaces;"
    },
    {
      "cell_type": "code",
      "execution_count": 1,
      "metadata": {
        "autoscroll": "auto"
      },
      "outputs": [],
      "source": "CREATE KEYSPACE movies WITH replication \u003d {\u0027class\u0027: \u0027SimpleStrategy\u0027,\r\n\u0027replication_factor\u0027: \u00271\u0027} AND durable_writes \u003d true;"
    },
    {
      "cell_type": "code",
      "execution_count": 2,
      "metadata": {
        "autoscroll": "auto"
      },
      "outputs": [],
      "source": "DESCRIBE KEYSPACE movies;"
    },
    {
      "cell_type": "code",
      "execution_count": 3,
      "metadata": {
        "autoscroll": "auto"
      },
      "outputs": [],
      "source": "SELECT * FROM system_schema.keyspaces;"
    },
    {
      "cell_type": "code",
      "execution_count": 4,
      "metadata": {
        "autoscroll": "auto"
      },
      "outputs": [],
      "source": "DROP TABLE IF EXISTS movies.movie;\r\nCREATE TABLE movies.movie (movie_id int,\r\n\ttitle text,\t\t\t\t// title\r\n\trelease_year int,\t\t// year\r\n\trunning_time int, \t\t// runtimes\r\n\tlanguages set\u003ctext\u003e, \t// language codes\r\n\tgenres set\u003ctext\u003e,      \t// genres\r\n\tplot_outline text,    \t// plot outline\r\n   cover_url text, \t\t\t// cover url\r\n   top250_rank int,\t\t\t// top 250 rank\r\n   PRIMARY KEY (movie_id)\r\n);"
    },
    {
      "cell_type": "code",
      "execution_count": 5,
      "metadata": {
        "autoscroll": "auto"
      },
      "outputs": [],
      "source": "DROP TABLE IF EXISTS movies.actor;\r\nCREATE TABLE movies.actor (actor_id int,\r\n  name text,\t\t\t\t\t// name\r\n  headshot_url text,\t\t// headshot\r\n  mini_biography text,\t\t// mini biography\r\n  birth_date text,\t\t\t// birth date\r\n  trade_mark list\u003ctext\u003e,\t// trade mark\r\n  PRIMARY KEY (actor_id)\r\n);"
    },
    {
      "cell_type": "code",
      "execution_count": 6,
      "metadata": {
        "autoscroll": "auto"
      },
      "outputs": [],
      "source": "DESCRIBE TABLE movie;\r\n"
    },
    {
      "cell_type": "code",
      "execution_count": 7,
      "metadata": {
        "autoscroll": "auto"
      },
      "outputs": [],
      "source": "DESCRIBE TABLE actor;"
    },
    {
      "cell_type": "code",
      "execution_count": 8,
      "metadata": {
        "autoscroll": "auto"
      },
      "outputs": [],
      "source": "// insert \"The Matrix\" - 0133093\r\nINSERT INTO movies.movie (movie_id, title, release_year, running_time, languages,\r\n                   genres, plot_outline, cover_url, top250_rank)\r\nVALUES (0133093,\r\n        \u0027The Matrix\u0027,\r\n \t\t1999,\r\n \t\t136,\r\n      {\u0027en\u0027},\r\n      {\u0027Action\u0027, \u0027Sci-Fi\u0027},\r\n      $$Thomas A. Anderson is a man living two lives. By day he is an average computer programmer and by night a hacker known as Neo. Neo has always questioned his reality, but the truth is far beyond his imagination. Neo finds himself targeted by the police when he is contacted by Morpheus, a legendary computer hacker branded a terrorist by the government. Morpheus awakens Neo to the real world, a ravaged wasteland where most of humanity have been captured by a race of machines that live off of the humans\u0027 body heat and electrochemical energy and who imprison their minds within an artificial reality known as the Matrix. As a rebel against the machines, Neo must return to the Matrix and confront the agents: super-powerful computer programs devoted to snuffing out Neo and the entire human rebellion$$,\r\n      \u0027https://m.media-amazon.com/images/M/MV5BNzQzOTk3OTAtNDQ0Zi00ZTVkLWI0MTEtMDllZjNkYzNjNTc4L2ltYWdlXkEyXkFqcGdeQXVyNjU0OTQ0OTY@._V1_SX101_CR0,0,101,150_.jpg\u0027,\r\n      19);\r\n\r\n// insert \"Pulp Fiction\" - 0110912\r\nINSERT INTO movies.movie (movie_id, title, release_year, running_time, languages,\r\n                   genres, plot_outline, cover_url, top250_rank)\r\nVALUES (0110912,\r\n \t\t\u0027Pulp Fiction\u0027,\r\n \t\t1994,\r\n \t\t154,\r\n \t\t{\u0027en\u0027, \u0027es\u0027, \u0027fr\u0027},\r\n \t\t{\u0027Crime\u0027, \u0027Drama\u0027},\r\n \t\t$$Jules Winnfield (Samuel L. Jackson) and Vincent Vega (John Travolta) are two hit men who are out to retrieve a suitcase stolen from their employer, mob boss Marsellus Wallace (Ving Rhames). Wallace has also asked Vincent to take his wife Mia (Uma Thurman) out a few days later when Wallace himself will be out of town. Butch Coolidge (Bruce Willis) is an aging boxer who is paid by Wallace to lose his fight. The lives of these seemingly unrelated people are woven together comprising of a series of funny, bizarre and uncalled-for incidents.$$,\r\n \t\t\u0027https://m.media-amazon.com/images/M/MV5BNGNhMDIzZTUtNTBlZi00MTRlLWFjM2ItYzViMjE3YzI5MjljXkEyXkFqcGdeQXVyNzkwMjQ5NzM@._V1_SY150_CR1,0,101,150_.jpg\u0027,\r\n \t\t8);\r\n\r\n// insert \"Speed\" - 0111257\r\nINSERT INTO movies.movie (movie_id, title, release_year, running_time, languages,\r\n                   genres, plot_outline, cover_url, top250_rank)\r\nVALUES (0111257,\r\n\t\t \u0027Speed\u0027,\r\n\t\t 1994,\r\n\t\t 116,\r\n\t\t {\u0027en\u0027},\r\n\t\t {\u0027Action\u0027, \u0027Adventure\u0027, \u0027Crime\u0027, \u0027Thriller\u0027},\r\n\t\t $$Bomber extortionist\u0027s elevator plan backfires, so he rigs a bomb to a LA city bus. The stipulation is: once armed, the bus must stay above 50 mph to keep from exploding. Also if LAPD Officer tries to unload any passengers off, Payne will detonate it. Joe Morton co-stars as Jack\u0027s superior, and Jeff Daniels supports Jack helping him try to defuse the bomb.$$,\r\n\t\t \u0027https://m.media-amazon.com/images/M/MV5BYjc0MjYyN2EtZGRhMy00NzJiLWI2Y2QtYzhiYTU3NzAxNzg4XkEyXkFqcGdeQXVyMTQxNzMzNDI@._V1_SY150_CR0,0,101,150_.jpg\u0027,\r\n\t\t  null); \t\t"
    },
    {
      "cell_type": "code",
      "execution_count": 9,
      "metadata": {
        "autoscroll": "auto"
      },
      "outputs": [],
      "source": "// insert \"Bruce Willis\" - 0000246\r\nINSERT INTO movies.actor (actor_id, name, headshot_url, birth_date, trade_mark)\r\nVALUES (0000246,\r\n \t\t\u0027Bruce Willis\u0027,\r\n \t\t\u0027https://m.media-amazon.com/images/M/MV5BMjA0MjMzMTE5OF5BMl5BanBnXkFtZTcwMzQ2ODE3Mw@@._V1_UY98_CR8,0,67,98_AL_.jpg\u0027,\r\n \t\t\u00271955-03-19\u0027,\r\n\t\t [\u0027Frequently plays a man who suffered a tragedy, had lost something or had a  crisis of confidence or conscience.\u0027,\r\n\t\t  \u0027Frequently plays likeable wisecracking heroes with a moral centre\u0027,\r\n\t\t  \u0027Headlines action-adventures, often playing a policeman, hitman or someone in the military\u0027,\r\n\t\t  \u0027Often plays men who get caught up in situations far beyond their control\u0027,\r\n\t\t  \u0027Sardonic one-liners\u0027,\r\n\t\t  \u0027Shaven head\u0027,\r\n\t\t  \u0027Distinctive, gravelly voice\u0027,\r\n\t\t  \u0027Smirky grin.\u0027,\r\n\t\t  \u0027Known for playing cynical anti-heroes with unhappy personal lives\u0027]);\r\n\r\n// insert \"John Travolta\" - 0000237\r\nINSERT INTO movies.actor (actor_id, name, headshot_url, birth_date, trade_mark)\r\nVALUES (0000237,\r\n\t\t \u0027John Travolta\u0027,\r\n\t\t \u0027https://m.media-amazon.com/images/M/MV5BMTUwNjQ0ODkxN15BMl5BanBnXkFtZTcwMDc5NjQwNw@@._V1_UY98_CR3,0,67,98_AL_.jpg\u0027,\r\n\t\t \u00271954-02-18\u0027,\r\n\t\t [\u0027Cleft chin and razor-sharp cheekbones\u0027,\r\n\t\t  \u0027Often works some sort of dance into his roles\u0027,\r\n\t\t  \u0027New Jersey accent\u0027,\r\n\t\t  \u0027Black hair and blue eyes\u0027]);\r\n\r\n\r\n// insert \"Sandra Bullock\" - 0000113\r\nINSERT INTO movies.actor (actor_id, name, headshot_url, birth_date, trade_mark)\r\nVALUES (0000113,\r\n\t\t\u0027Sandra Bullock\u0027,\r\n        \u0027https://m.media-amazon.com/images/M/MV5BMTI5NDY5NjU3NF5BMl5BanBnXkFtZTcwMzQ0MTMyMw@@._V1_UX67_CR0,0,67,98_AL_.jpg\u0027,\r\n        \u00271964-07-26\u0027,\r\n        null);\r\n\r\n// insert \"Samuel L. Jackson\" - 0000168\r\nINSERT INTO movies.actor (actor_id, name, headshot_url, birth_date, trade_mark)\r\nVALUES (0000168,\r\n\t\t \u0027Samuel L. Jackson\u0027,\r\n\t\t \u0027https://m.media-amazon.com/images/M/MV5BMTQ1NTQwMTYxNl5BMl5BanBnXkFtZTYwMjA1MzY1._V1_UX67_CR0,0,67,98_AL_.jpg\u0027,\r\n\t\t \u00271948-12-21\u0027,\r\n\t\t [\u0027Deep authoritative voice\u0027,\r\n\t\t  \u0027Rebellious characters who are disliked or considered strange by others in the story\u0027,\r\n\t\t  \u0027Often plays police officers or government officials. Both prone to intimidation or violence\u0027,\r\n\t\t  \u0027Often plays very wise and intelligent characters with great capacities for violence\u0027,\r\n\t\t  \u0027Frequently plays tough characters who swear a lot\u0027,\r\n\t\t  \u0027Frequent swearing\u0027,\r\n\t\t  \u0027Often sports a moustache or goatee in his films\u0027,\r\n\t\t  \u0027Shaven head\u0027,\r\n\t\t  \u0027Kangol hats\u0027,\r\n\t\t  \u0027Often plays hotheaded characters with a fiery temper\u0027,\r\n\t\t  \u0027Often shouts the word \"motherf*****\" at some point in a film\u0027,\r\n\t\t  \u0027Frequently cast by Quentin Tarantino\u0027]);\r\n\r\n// insert \"Uma Thurman\" - 0000235\r\nINSERT INTO movies.actor (actor_id, name, headshot_url, birth_date, trade_mark)\r\nVALUES (0000235,\r\n\t\t \u0027Uma Thurman\u0027,\r\n\t\t \u0027https://m.media-amazon.com/images/M/MV5BMjMxNzk1MTQyMl5BMl5BanBnXkFtZTgwMDIzMDEyMTE@._V1_UX67_CR0,0,67,98_AL_.jpg\u0027,\r\n\t\t \u00271970-04-29\u0027,\r\n\t\t [\u0027Long blond hair and blue eyes\u0027, \u0027Statuesque, model-like figure\u0027]);\r\n\r\n// insert \"Keanu Reeves\" - 0000206\r\nINSERT INTO movies.actor (actor_id, name, headshot_url, birth_date, trade_mark)\r\nVALUES (0000206,\r\n\t\t \u0027Keanu Reeves\u0027,\r\n \t\t \u0027https://m.media-amazon.com/images/M/MV5BNjUxNDcwMTg4Ml5BMl5BanBnXkFtZTcwMjU4NDYyOA@@._V1_UY98_CR4,0,67,98_AL_.jpg\u0027,\r\n \t\t \u00271964-09-02\u0027,\r\n\t\t [\u0027Intense contemplative gaze\u0027,\r\n\t\t  \u0027Deep husky voice\u0027,\r\n\t\t  \u0027Known for playing stoic reserved characters\u0027]);\r\n\r\n// insert \"Quentin Tarantino\" - 0000233\r\nINSERT INTO movies.actor (actor_id, name, headshot_url, birth_date, trade_mark)\r\nVALUES (0000233,\r\n         \u0027Quentin Tarantino\u0027,\r\n         \u0027https://m.media-amazon.com/images/M/MV5BMTgyMjI3ODA3Nl5BMl5BanBnXkFtZTcwNzY2MDYxOQ@@._V1_UX67_CR0,0,67,98_AL_.jpg\u0027,\r\n         \u00271963-03-27\u0027,\r\n         [\u0027Lead characters usually drive General Motors vehicles, particularly Chevrolet and Cadillac, such as Jules 1974 Nova and Vincents 1960s Malibu.\u0027,\r\n          \u0027Briefcases and suitcases play an important role in Pulp Fiction (1994), Reservoir Dogs (1992), Jackie Brown (1997), True Romance (1993) and Kill Bill: Vol. 2 (2004).\u0027,\r\n          \u0027Makes references to cult movies and television\u0027,\r\n          \u0027Frequently works with Harvey Keitel, Tim Roth, Michael Madsen, Uma Thurman, Michael Bowen, Samuel L. Jackson, Michael Parks and Christoph Waltz.\u0027,\r\n          \u0027His films usually have a shot from inside an automobile trunk\u0027,\r\n          \u0027He always has a Dutch element in his films: The opening tune, Little Green Bag, in Reservoir Dogs (1992) was performed by George Baker Selection and written by Jan Gerbrand Visser and Benjamino Bouwens who are all Dutch. The character Freddy Newandyke, played by Tim Roth is a direct translation to a typical Dutch last name, Nieuwendijk. The code name of Tim Roth is Mr. Orange, the royal color of Holland and the last name of the royal family. The Amsterdam conversation in Pulp Fiction (1994), Vincent Vega smokes from a Dutch tobacco shag (Drum), the mentioning of Rutger Hauer in Jackie Brown (1997), the brides name is Beatrix, the name of the Royal Dutch Queen.\u0027,\r\n\t\t  \u0027[The Mexican Standoff] All his movies (including True Romance (1993), which he only wrote and did not direct) feature a scene in which three or more characters are pointing guns at each other at the same time.\u0027,\r\n         \u0027Often uses an unconventional storytelling device in his films, such as retrospect (Reservoir Dogs (1992)), non-linear (Pulp Fiction (1994)), or \"chapter\" format (Kill Bill: Vol. 1 (2003)).\u0027,\r\n         \u0027His films will often include one long, unbroken take where a character is  followed around somewhere.\u0027]);"
    },
    {
      "cell_type": "code",
      "execution_count": 10,
      "metadata": {
        "autoscroll": "auto"
      },
      "outputs": [],
      "source": "SELECT movie_id, title\r\nFROM movies.movie;"
    },
    {
      "cell_type": "code",
      "execution_count": 11,
      "metadata": {
        "autoscroll": "auto"
      },
      "outputs": [],
      "source": "SELECT *\r\nFROM movies.actor;"
    },
    {
      "cell_type": "code",
      "execution_count": 12,
      "metadata": {
        "autoscroll": "auto"
      },
      "outputs": [],
      "source": "UPDATE movies.actor\r\nSET name \u003d \u0027Bruce Walter Willis\u0027\r\nWHERE actor_id \u003d 0000246;"
    },
    {
      "cell_type": "code",
      "execution_count": 13,
      "metadata": {
        "autoscroll": "auto"
      },
      "outputs": [],
      "source": "SELECT *\r\nFROM movies.actor\r\nWHERE actor_id \u003d 0000246;"
    },
    {
      "cell_type": "code",
      "execution_count": 14,
      "metadata": {
        "autoscroll": "auto"
      },
      "outputs": [],
      "source": "DROP TABLE IF EXISTS movies.movies_by_actor;\r\nCREATE TABLE movies.movies_by_actor (actor_id int,\r\n\t\t\t\tmovie_id int,  \r\n\t\t\t\ttitle text,\r\n\t\t\t\tPRIMARY KEY (actor_id, movie_id)\r\n);"
    },
    {
      "cell_type": "code",
      "execution_count": 15,
      "metadata": {
        "autoscroll": "auto"
      },
      "outputs": [],
      "source": "DROP TABLE IF EXISTS movies.actors_by_movie;\r\nCREATE TABLE movies.actors_by_movie (movie_id int,\r\n             title text STATIC,\r\n\t\t\t\tactor_id int,  \r\n\t\t\t\tname text,\r\n\t\t\t\tPRIMARY KEY (movie_id, actor_id)\r\n);"
    },
    {
      "cell_type": "code",
      "execution_count": 16,
      "metadata": {
        "autoscroll": "auto"
      },
      "outputs": [],
      "source": "// Фильмы для актера \"Bruce Willis\"\r\n\r\nINSERT INTO movies.movies_by_actor (actor_id, movie_id, title)\r\nVALUES (0000246, 0110912, \u0027Pulp Fiction\u0027);\r\n\r\nINSERT INTO movies.movies_by_actor (actor_id, movie_id, title)\r\nVALUES (0000246, 1606378, \u0027A Good Day to Die Hard\u0027);\r\n\r\nINSERT INTO movies.movies_by_actor (actor_id, movie_id, title)\r\nVALUES (0000246, 0217869, \u0027Unbreakable\u0027);\r\n\r\nINSERT INTO movies.movies_by_actor (actor_id, movie_id, title)\r\nVALUES (0000246, 0377917, \u0027The Fifth Element\u0027);\r\n\r\nINSERT INTO movies.movies_by_actor (actor_id, movie_id, title)\r\nVALUES (0000246, 0112864, \u0027Die Hard: With a Vengeance\u0027);\r\n\r\n// Фильмы для актера \"Keanu Reeves\"\r\n\r\nINSERT INTO movies.movies_by_actor (actor_id, movie_id, title)\r\nVALUES (0000206, 0133093, \u0027The Matrix\u0027);\r\n\r\nINSERT INTO movies.movies_by_actor (actor_id, movie_id, title)\r\nVALUES (0000206, 0234215, \u0027The Matrix Reloaded\u0027);\r\n\r\nINSERT INTO movies.movies_by_actor (actor_id, movie_id, title)\r\nVALUES (0000206, 0111257, \u0027Speed\u0027);\r\n\r\n\r\n// Фильмы для актера \"Sandra Bullock\"\r\n\r\nINSERT INTO movies.movies_by_actor (actor_id, movie_id, title)\r\nVALUES (0000113, 0111257, \u0027Speed\u0027);"
    },
    {
      "cell_type": "code",
      "execution_count": 17,
      "metadata": {
        "autoscroll": "auto"
      },
      "outputs": [],
      "source": "// Актеры для фильма \"The Matrix\"\r\n\r\nINSERT INTO movies.actors_by_movie (movie_id, title, actor_id, name)\r\nVALUES (0133093, \u0027The Matrix\u0027, 0000206, \u0027Keanu Reeves\u0027);\r\n\r\nINSERT INTO movies.actors_by_movie (movie_id, title, actor_id, name)\r\nVALUES (0133093, \u0027The Matrix\u0027, 0000401, \u0027Laurence Fishburne\u0027);\r\n\r\nINSERT INTO movies.actors_by_movie (movie_id, title, actor_id, name)\r\nVALUES (0133093, \u0027The Matrix\u0027, 0005251, \u0027Carrie-Anne Moss\u0027);\r\n\r\nINSERT INTO movies.actors_by_movie (movie_id, title, actor_id, name)\r\nVALUES (0133093, \u0027The Matrix\u0027, 0915989, \u0027Hugo Weaving\u0027);\r\n\r\n\r\n// Актеры для фильма \"Pulp Fiction\"\r\n\r\nINSERT INTO movies.actors_by_movie (movie_id, title, actor_id, name)\r\nVALUES (0110912, \u0027Pulp Fiction\u0027, 0000237, \u0027John Travolta\u0027);\r\n\r\nINSERT INTO movies.actors_by_movie (movie_id, title, actor_id, name)\r\nVALUES (0110912, \u0027Pulp Fiction\u0027, 0000168, \u0027Samuel L. Jackson\u0027);\r\n\r\nINSERT INTO movies.actors_by_movie (movie_id, title, actor_id, name)\r\nVALUES (0110912, \u0027Pulp Fiction\u0027, 0000246, \u0027Bruce Willis\u0027);"
    },
    {
      "cell_type": "code",
      "execution_count": 18,
      "metadata": {
        "autoscroll": "auto"
      },
      "outputs": [],
      "source": "SELECT title\r\nFROM movies.movies_by_actor\r\nWHERE actor_id \u003d 0000246;"
    },
    {
      "cell_type": "code",
      "execution_count": 19,
      "metadata": {
        "autoscroll": "auto"
      },
      "outputs": [],
      "source": "SELECT name, title\r\nFROM movies.actors_by_movie\r\nWHERE movie_id \u003d 0110912;"
    },
    {
      "cell_type": "code",
      "execution_count": 20,
      "metadata": {
        "autoscroll": "auto"
      },
      "outputs": [],
      "source": "DROP TABLE IF EXISTS movies.rating_by_movie;\r\nCREATE TABLE movies.rating_by_movie (movie_id int,\r\n             one_star counter,  \r\n             two_star counter,  \r\n             three_star counter,  \r\n             four_star counter,  \r\n             five_star counter,\r\n\t\t\t\tPRIMARY KEY (movie_id)\r\n);"
    },
    {
      "cell_type": "code",
      "execution_count": 21,
      "metadata": {
        "autoscroll": "auto"
      },
      "outputs": [],
      "source": "UPDATE movies.rating_by_movie\r\nSET five_star \u003d five_star + 1\r\nWHERE movie_id \u003d 0110912;\r\n\r\nUPDATE movies.rating_by_movie\r\nSET four_star \u003d four_star + 1\r\nWHERE movie_id \u003d 0110912;\r\n\r\nUPDATE movies.rating_by_movie\r\nSET five_star \u003d five_star + 1\r\nWHERE movie_id \u003d 0110912;\r\n\r\nUPDATE movies.rating_by_movie\r\nSET five_star \u003d five_star + 1\r\nWHERE movie_id \u003d 0110912;\r\n\r\nUPDATE movies.rating_by_movie\r\nSET two_star \u003d two_star + 1\r\nWHERE movie_id \u003d 0110912;"
    },
    {
      "cell_type": "code",
      "execution_count": 22,
      "metadata": {
        "autoscroll": "auto"
      },
      "outputs": [],
      "source": "SELECT * FROM movies.rating_by_movie WHERE movie_id \u003d 0110912;"
    },
    {
      "cell_type": "code",
      "execution_count": 23,
      "metadata": {
        "autoscroll": "auto"
      },
      "outputs": [],
      "source": "DROP TABLE IF EXISTS movies.movie_viewed_by_time;\r\nCREATE TABLE movies.movie_viewed_by_time (movie_id int,\r\n\t\t\t   year int,\r\n\t\t\t   month int,\r\n             male counter,\r\n             female counter,\r\n\t\t\t\tPRIMARY KEY (movie_id, year, month)\r\n) WITH CLUSTERING ORDER BY (year DESC, month DESC);\r\n"
    },
    {
      "cell_type": "code",
      "execution_count": 24,
      "metadata": {
        "autoscroll": "auto"
      },
      "outputs": [],
      "source": "// Pulp Fiction Views 2019/03\r\nUPDATE movies.movie_viewed_by_time\r\nSET male \u003d male + 1\r\nWHERE movie_id \u003d 0110912 AND year \u003d 2019 and month \u003d 03;\r\n\r\nUPDATE movies.movie_viewed_by_time\r\nSET male \u003d male + 1\r\nWHERE movie_id \u003d 0110912 AND year \u003d 2019 and month \u003d 03;\r\n\r\nUPDATE movies.movie_viewed_by_time\r\nSET female \u003d female + 1\r\nWHERE movie_id \u003d 0110912 AND year \u003d 2019 and month \u003d 03;\r\n\r\n// Pulp Fiction Views 2019/04\r\nUPDATE movies.movie_viewed_by_time\r\nSET female \u003d female + 1\r\nWHERE movie_id \u003d 0110912 AND year \u003d 2019 and month \u003d 04;\r\n\r\nUPDATE movies.movie_viewed_by_time\r\nSET male \u003d male + 1\r\nWHERE movie_id \u003d 0110912 AND year \u003d 2019 and month \u003d 04;\r\n\r\nUPDATE movies.movie_viewed_by_time\r\nSET female \u003d female + 1\r\nWHERE movie_id \u003d 0110912 AND year \u003d 2019 and month \u003d 04;\r\n\r\nUPDATE movies.movie_viewed_by_time\r\nSET female \u003d female + 1\r\nWHERE movie_id \u003d 0110912 AND year \u003d 2019 and month \u003d 04;\r\n\r\n// Pulp Fiction Views 2019/05\r\nUPDATE movies.movie_viewed_by_time\r\nSET male \u003d male + 1\r\nWHERE movie_id \u003d 0110912 AND year \u003d 2019 and month \u003d 05;\r\n\r\nUPDATE movies.movie_viewed_by_time\r\nSET male \u003d male + 1\r\nWHERE movie_id \u003d 0110912 AND year \u003d 2019 and month \u003d 05;\r\n\r\nUPDATE movies.movie_viewed_by_time\r\nSET female \u003d female + 1\r\nWHERE movie_id \u003d 0110912 AND year \u003d 2019 and month \u003d 05;\r\n\r\nUPDATE movies.movie_viewed_by_time\r\nSET female \u003d female + 1\r\nWHERE movie_id \u003d 0110912 AND year \u003d 2019 and month \u003d 05;"
    },
    {
      "cell_type": "code",
      "execution_count": 25,
      "metadata": {
        "autoscroll": "auto"
      },
      "outputs": [],
      "source": "SELECT *\r\nFROM movies.movie_viewed_by_time\r\nWHERE movie_id \u003d 0110912;"
    },
    {
      "cell_type": "code",
      "execution_count": 26,
      "metadata": {
        "autoscroll": "auto"
      },
      "outputs": [],
      "source": "SELECT *\r\nFROM movies.movie_viewed_by_time\r\nWHERE movie_id \u003d 0110912 AND year \u003d 2019 AND month \u003d 05;"
    },
    {
      "cell_type": "code",
      "execution_count": 27,
      "metadata": {
        "autoscroll": "auto"
      },
      "outputs": [],
      "source": "SELECT *\r\nFROM movies.movie_viewed_by_time\r\nWHERE movie_id \u003d 0110912 AND year \u003d 2019 AND month \u003e\u003d 01 AND month \u003c\u003d 5;"
    },
    {
      "cell_type": "code",
      "execution_count": 28,
      "metadata": {
        "autoscroll": "auto"
      },
      "outputs": [],
      "source": "//Индивидуальное задание. Вариант 13"
    },
    {
      "cell_type": "code",
      "execution_count": 29,
      "metadata": {
        "autoscroll": "auto"
      },
      "outputs": [],
      "source": "CREATE KEYSPACE library WITH replication \u003d\r\n  {\u0027class\u0027:\u0027SimpleStrategy\u0027,\u0027replication_factor\u0027:1};\r\nDESCRIBE KEYSPACE library;\r\n"
    },
    {
      "cell_type": "code",
      "execution_count": 30,
      "metadata": {
        "autoscroll": "auto"
      },
      "outputs": [],
      "source": "DROP TABLE IF EXISTS library.books;\r\nCREATE TABLE library.books (\r\n    book_id int,\r\n    title text,\r\n    author text,\r\n    year_published int,\r\n    genre text,\r\n    isbn text,\r\n    PRIMARY KEY (book_id)\r\n);"
    },
    {
      "cell_type": "code",
      "execution_count": 31,
      "metadata": {
        "autoscroll": "auto"
      },
      "outputs": [],
      "source": "-- Классика\r\nINSERT INTO library.books (book_id, title, author, year_published, genre, isbn)\r\nVALUES (1, \u0027To Kill a Mockingbird\u0027, \u0027Harper Lee\u0027, 1960, \u0027Classic\u0027, \u0027978-0061120084\u0027);\r\n\r\n-- Фантастика\r\nINSERT INTO library.books (book_id, title, author, year_published, genre, isbn)\r\nVALUES (2, \u0027Dune\u0027, \u0027Frank Herbert\u0027, 1965, \u0027Science Fiction\u0027, \u0027978-0441172719\u0027);\r\n\r\n-- Программирование\r\nINSERT INTO library.books (book_id, title, author, year_published, genre, isbn)\r\nVALUES (3, \u0027Clean Code\u0027, \u0027Robert C. Martin\u0027, 2008, \u0027Programming\u0027, \u0027978-0132350884\u0027);\r\n\r\n-- Детектив\r\nINSERT INTO library.books (book_id, title, author, year_published, genre, isbn)\r\nVALUES (4, \u0027The Girl with the Dragon Tattoo\u0027, \u0027Stieg Larsson\u0027, 2005, \u0027Mystery\u0027, \u0027978-0307269751\u0027);\r\n"
    },
    {
      "cell_type": "code",
      "execution_count": 32,
      "metadata": {
        "autoscroll": "auto"
      },
      "outputs": [],
      "source": "SELECT * FROM library.books;"
    },
    {
      "cell_type": "code",
      "execution_count": 33,
      "metadata": {
        "autoscroll": "auto"
      },
      "outputs": [],
      "source": "UPDATE library.books \r\nSET year_published \u003d 1950 \r\nWHERE book_id \u003d 2;"
    },
    {
      "cell_type": "code",
      "execution_count": 34,
      "metadata": {
        "autoscroll": "auto"
      },
      "outputs": [],
      "source": "SELECT title, author, year_published \r\nFROM library.books \r\nWHERE book_id \u003d 2;"
    }
  ]
}